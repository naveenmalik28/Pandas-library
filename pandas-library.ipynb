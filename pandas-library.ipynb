{
 "cells": [
  {
   "cell_type": "code",
   "execution_count": 4,
   "metadata": {},
   "outputs": [
    {
     "name": "stdout",
     "output_type": "stream",
     "text": [
      "    Cars  Passings  Late fee\n",
      "0    BMW         3       200\n",
      "1  Volvo         7       300\n",
      "2   Ford         2       100\n"
     ]
    }
   ],
   "source": [
    "import pandas as pd\n",
    "\n",
    "mydataset = {\n",
    "  'Cars': [\"BMW\", \"Volvo\", \"Ford\"],\n",
    "  'Passings': [3, 7, 2],'Late fee':[200,300,100]\n",
    "}\n",
    "\n",
    "myvar = pd.DataFrame(mydataset)\n",
    "\n",
    "print(myvar)"
   ]
  },
  {
   "cell_type": "code",
   "execution_count": 3,
   "metadata": {},
   "outputs": [
    {
     "name": "stdout",
     "output_type": "stream",
     "text": [
      "      Series_reference   Period  Data_value Suppressed STATUS    UNITS  \\\n",
      "0           ECTA.S19A1  2001.03      2462.5        NaN      F  Dollars   \n",
      "1           ECTA.S19A1  2002.03     17177.2        NaN      F  Dollars   \n",
      "2           ECTA.S19A1  2003.03     22530.5        NaN      F  Dollars   \n",
      "3           ECTA.S19A1  2004.03     28005.1        NaN      F  Dollars   \n",
      "4           ECTA.S19A1  2005.03     30629.6        NaN      F  Dollars   \n",
      "...                ...      ...         ...        ...    ...      ...   \n",
      "17505       ECTQ.S4AXP  2019.12        43.6        NaN      F  Percent   \n",
      "17506       ECTQ.S4AXP  2020.03        42.6        NaN      F  Percent   \n",
      "17507       ECTQ.S4AXP  2020.06        36.3        NaN      F  Percent   \n",
      "17508       ECTQ.S4AXP  2020.09        39.2        NaN      F  Percent   \n",
      "17509       ECTQ.S4AXP  2020.12        38.6        NaN      F  Percent   \n",
      "\n",
      "       Magnitude                                        Subject  \\\n",
      "0              6  Electronic Card Transactions (ANZSIC06) - ECT   \n",
      "1              6  Electronic Card Transactions (ANZSIC06) - ECT   \n",
      "2              6  Electronic Card Transactions (ANZSIC06) - ECT   \n",
      "3              6  Electronic Card Transactions (ANZSIC06) - ECT   \n",
      "4              6  Electronic Card Transactions (ANZSIC06) - ECT   \n",
      "...          ...                                            ...   \n",
      "17505          0  Electronic Card Transactions (ANZSIC06) - ECT   \n",
      "17506          0  Electronic Card Transactions (ANZSIC06) - ECT   \n",
      "17507          0  Electronic Card Transactions (ANZSIC06) - ECT   \n",
      "17508          0  Electronic Card Transactions (ANZSIC06) - ECT   \n",
      "17509          0  Electronic Card Transactions (ANZSIC06) - ECT   \n",
      "\n",
      "                                                   Group Series_title_1  \\\n",
      "0      Total values - Electronic card transactions A/...         Actual   \n",
      "1      Total values - Electronic card transactions A/...         Actual   \n",
      "2      Total values - Electronic card transactions A/...         Actual   \n",
      "3      Total values - Electronic card transactions A/...         Actual   \n",
      "4      Total values - Electronic card transactions A/...         Actual   \n",
      "...                                                  ...            ...   \n",
      "17505  Electronic card transactions by mean and propo...         Actual   \n",
      "17506  Electronic card transactions by mean and propo...         Actual   \n",
      "17507  Electronic card transactions by mean and propo...         Actual   \n",
      "17508  Electronic card transactions by mean and propo...         Actual   \n",
      "17509  Electronic card transactions by mean and propo...         Actual   \n",
      "\n",
      "                                          Series_title_2  Series_title_3  \\\n",
      "0                                   RTS total industries             NaN   \n",
      "1                                   RTS total industries             NaN   \n",
      "2                                   RTS total industries             NaN   \n",
      "3                                   RTS total industries             NaN   \n",
      "4                                   RTS total industries             NaN   \n",
      "...                                                  ...             ...   \n",
      "17505  Debit card usage as a proportion of total ECT ...  Proportion (%)   \n",
      "17506  Debit card usage as a proportion of total ECT ...  Proportion (%)   \n",
      "17507  Debit card usage as a proportion of total ECT ...  Proportion (%)   \n",
      "17508  Debit card usage as a proportion of total ECT ...  Proportion (%)   \n",
      "17509  Debit card usage as a proportion of total ECT ...  Proportion (%)   \n",
      "\n",
      "       Series_title_4  Series_title_5  \n",
      "0                 NaN             NaN  \n",
      "1                 NaN             NaN  \n",
      "2                 NaN             NaN  \n",
      "3                 NaN             NaN  \n",
      "4                 NaN             NaN  \n",
      "...               ...             ...  \n",
      "17505             NaN             NaN  \n",
      "17506             NaN             NaN  \n",
      "17507             NaN             NaN  \n",
      "17508             NaN             NaN  \n",
      "17509             NaN             NaN  \n",
      "\n",
      "[17510 rows x 14 columns]\n"
     ]
    }
   ],
   "source": [
    "import pandas as pd\n",
    "df=pd.read_csv('card.csv')\n",
    "print(df)"
   ]
  },
  {
   "cell_type": "code",
   "execution_count": null,
   "metadata": {},
   "outputs": [],
   "source": []
  }
 ],
 "metadata": {
  "kernelspec": {
   "display_name": "Python 3",
   "language": "python",
   "name": "python3"
  },
  "language_info": {
   "codemirror_mode": {
    "name": "ipython",
    "version": 3
   },
   "file_extension": ".py",
   "mimetype": "text/x-python",
   "name": "python",
   "nbconvert_exporter": "python",
   "pygments_lexer": "ipython3",
   "version": "3.9.2"
  }
 },
 "nbformat": 4,
 "nbformat_minor": 4
}
